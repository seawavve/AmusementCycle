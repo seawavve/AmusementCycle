{
  "nbformat": 4,
  "nbformat_minor": 0,
  "metadata": {
    "colab": {
      "name": "Untitled51.ipynb",
      "provenance": [],
      "authorship_tag": "ABX9TyMH59FCDMWi30p5AKlXP87V",
      "include_colab_link": true
    },
    "kernelspec": {
      "name": "python3",
      "display_name": "Python 3"
    },
    "language_info": {
      "name": "python"
    }
  },
  "cells": [
    {
      "cell_type": "markdown",
      "metadata": {
        "id": "view-in-github",
        "colab_type": "text"
      },
      "source": [
        "<a href=\"https://colab.research.google.com/github/seawavve/AmusementCycle/blob/main/Errored_imageprocessing.ipynb\" target=\"_parent\"><img src=\"https://colab.research.google.com/assets/colab-badge.svg\" alt=\"Open In Colab\"/></a>"
      ]
    },
    {
      "cell_type": "code",
      "metadata": {
        "colab": {
          "base_uri": "https://localhost:8080/"
        },
        "id": "z7rY3kFMk2yV",
        "outputId": "4abfb84a-f896-425e-d2be-1839a99ca41e"
      },
      "source": [
        "#반디캠으로 해야겠다 아무래도 원본 동영상이이상해\n",
        "\n",
        "\n",
        "\n",
        "\n",
        "\n",
        "import imutils # 파이썬 OpenCV가 제공하는 기능 중 복잡하고 사용성이 떨어지는 부분을 보완(이미지 또는 비디오 스트림 파일 처리 등)\n",
        "import cv2 # opencv 모듈\n",
        "\n",
        "# 비디오 파일\n",
        "video = \"biking.mp4\" # \"\" 일 경우 webcam 사용\n",
        "\n",
        "# 저장할 비디오 파일 경로 및 이름\n",
        "result_path = \"resize_biking.mp4\"\n",
        "\n",
        "# 비디오 경로가 제공되지 않은 경우 webcam 사용\n",
        "if video == \"\":\n",
        "    print(\"[webcam 시작]\")\n",
        "    vs = cv2.VideoCapture(0)\n",
        "\n",
        "# 비디오 경로가 제공된 경우 video 사용\n",
        "else:\n",
        "    print(\"[video 시작]\")\n",
        "    vs = cv2.VideoCapture(video)\n",
        "\n",
        "# 비디오 저장 변수\n",
        "writer = None\n",
        "\n",
        "# 비디오 스트림 프레임 반복\n",
        "while True:\n",
        "    # 프레임 읽기\n",
        "    ret, frame = vs.read()\n",
        "\n",
        "    # 읽은 프레임이 없는 경우 종료\n",
        "    if frame is None:\n",
        "        break\n",
        "\n",
        "    # 프레임 resize\n",
        "    frame = imutils.resize(frame, width=500)\n",
        "\n",
        "    # 프레임 출력\n",
        "    #cv2.imshow(\"frame\", frame)\n",
        "    \n",
        "    # 'q' 키를 입력하면 종료\n",
        "    key = cv2.waitKey(1) & 0xFF\n",
        "    if key == ord(\"q\"):\n",
        "        break\n",
        "                                    \n",
        "    # 저장할 비디오 설정\n",
        "    if writer is None:\n",
        "        fourcc = cv2.VideoWriter_fourcc(*\"mp4v\")\n",
        "        writer = cv2.VideoWriter(result_path, fourcc, 25, (frame.shape[1], frame.shape[0]), True)\n",
        "\n",
        "    # 비디오 저장\n",
        "    if writer is not None:\n",
        "        writer.write(frame)\n",
        "\n",
        "# 종료\n",
        "vs.release()\n",
        "cv2.destroyAllWindows()"
      ],
      "execution_count": 3,
      "outputs": [
        {
          "output_type": "stream",
          "name": "stdout",
          "text": [
            "[video 시작]\n"
          ]
        }
      ]
    },
    {
      "cell_type": "code",
      "metadata": {
        "colab": {
          "base_uri": "https://localhost:8080/"
        },
        "id": "g8lomiZhnFUn",
        "outputId": "e1d9cd69-2239-487e-d711-b97a59836803"
      },
      "source": [
        "import numpy as np\n",
        "import cv2\n",
        "import os\n",
        "# 비디오 경로 설정\n",
        "# Open the video\n",
        "VIDEOS_DIR=''\n",
        "filename='biking'\n",
        "input_path=os.path.join(VIDEOS_DIR, filename + '.mp4')\n",
        "output_path=os.path.join(VIDEOS_DIR, filename + '_croped.mp4')\n",
        "\n",
        "cap = cv2.VideoCapture(input_path)\n",
        "# Initialize frame counter\n",
        "\n",
        "# Some characteristics from the original video\n",
        "w_frame, h_frame = int(cap.get(cv2.CAP_PROP_FRAME_WIDTH)), int(cap.get(cv2.CAP_PROP_FRAME_HEIGHT))\n",
        "print(w_frame, h_frame)\n",
        "fps, frames = cap.get(cv2.CAP_PROP_FPS), cap.get(cv2.CAP_PROP_FRAME_COUNT)\n",
        "\n",
        "# Here you can define your croping values\n",
        "# # Now we start\n",
        "while(cap.isOpened()):\n",
        "    # Avoid problems when video finish\n",
        "    if ret==True:\n",
        "        ret, frame = cap.read()\n",
        "        fourcc = cv2.VideoWriter_fourcc(*\"mp4v\")\n",
        "        frame = imutils.resize(frame, width=500)\n",
        "        out = cv2.VideoWriter(output_path, fourcc, fps, (frame.shape[1], frame.shape[0]))\n",
        "        out.write(frame)\n",
        "        # Just to see the video in real time          \n",
        "        # cv2.imshow('frame',frame)\n",
        "        # cv2.imshow('croped',crop_frame)\n",
        "        if cv2.waitKey(1) & 0xFF == ord('q'):\n",
        "            break\n",
        "    else:\n",
        "        break\n",
        "cap.release()\n",
        "out.release()\n",
        "cv2.destroyAllWindows()"
      ],
      "execution_count": 11,
      "outputs": [
        {
          "output_type": "stream",
          "name": "stdout",
          "text": [
            "1428 798\n"
          ]
        }
      ]
    }
  ]
}