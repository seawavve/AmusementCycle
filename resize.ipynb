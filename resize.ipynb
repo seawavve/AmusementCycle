{
  "nbformat": 4,
  "nbformat_minor": 0,
  "metadata": {
    "colab": {
      "name": "Untitled52.ipynb",
      "provenance": [],
      "authorship_tag": "ABX9TyMrcDSWciFgO/W4SqGEEzxK",
      "include_colab_link": true
    },
    "kernelspec": {
      "name": "python3",
      "display_name": "Python 3"
    },
    "language_info": {
      "name": "python"
    }
  },
  "cells": [
    {
      "cell_type": "markdown",
      "metadata": {
        "id": "view-in-github",
        "colab_type": "text"
      },
      "source": [
        "<a href=\"https://colab.research.google.com/github/seawavve/AmusementCycle/blob/main/resize.ipynb\" target=\"_parent\"><img src=\"https://colab.research.google.com/assets/colab-badge.svg\" alt=\"Open In Colab\"/></a>"
      ]
    },
    {
      "cell_type": "code",
      "metadata": {
        "id": "Z4d0MO0dUjUs"
      },
      "source": [
        ""
      ],
      "execution_count": null,
      "outputs": []
    },
    {
      "cell_type": "code",
      "metadata": {
        "colab": {
          "base_uri": "https://localhost:8080/"
        },
        "id": "nTpNHdBqUkTh",
        "outputId": "2b56942e-3408-4c30-ca38-e2d6af53daff"
      },
      "source": [
        "import imutils # 파이썬 OpenCV가 제공하는 기능 중 복잡하고 사용성이 떨어지는 부분을 보완(이미지 또는 비디오 스트림 파일 처리 등)\n",
        "import cv2 # opencv 모듈\n",
        "\n",
        "# 비디오 파일\n",
        "video = \"./gyro_swing_1.mp4\" # \"\" 일 경우 webcam 사용\n",
        "\n",
        "# 저장할 비디오 파일 경로 및 이름\n",
        "result_path = \"./result_video.avi\"\n",
        "\n",
        "# 비디오 경로가 제공되지 않은 경우 webcam 사용\n",
        "if video == \"\":\n",
        "    print(\"[webcam 시작]\")\n",
        "    vs = cv2.VideoCapture(0)\n",
        "\n",
        "# 비디오 경로가 제공된 경우 video 사용\n",
        "else:\n",
        "    print(\"[video 시작]\")\n",
        "    vs = cv2.VideoCapture(video)\n",
        "\n",
        "# 비디오 저장 변수\n",
        "writer = None\n",
        "\n",
        "# 비디오 스트림 프레임 반복\n",
        "while True:\n",
        "    # 프레임 읽기\n",
        "    ret, frame = vs.read()\n",
        "\n",
        "    # 읽은 프레임이 없는 경우 종료\n",
        "    if frame is None:\n",
        "        break\n",
        "\n",
        "    # 프레임 resize\n",
        "    frame = imutils.resize(frame, width=500)\n",
        "\n",
        "    # 프레임 출력\n",
        "    #cv2.imshow(\"frame\", frame)\n",
        "    \n",
        "    # 'q' 키를 입력하면 종료\n",
        "    key = cv2.waitKey(1) & 0xFF\n",
        "    if key == ord(\"q\"):\n",
        "        break\n",
        "                                     \n",
        "    # 저장할 비디오 설정\n",
        "    if writer is None:\n",
        "        fourcc = cv2.VideoWriter_fourcc(*\"MJPG\")\n",
        "        writer = cv2.VideoWriter(result_path, fourcc, 25, (frame.shape[1], frame.shape[0]), True)\n",
        "\n",
        "    # 비디오 저장\n",
        "    if writer is not None:\n",
        "        writer.write(frame)\n",
        "\n",
        "# 종료\n",
        "vs.release()\n",
        "cv2.destroyAllWindows()"
      ],
      "execution_count": 1,
      "outputs": [
        {
          "output_type": "stream",
          "name": "stdout",
          "text": [
            "[video 시작]\n"
          ]
        }
      ]
    },
    {
      "cell_type": "code",
      "metadata": {
        "id": "WWOfcG9_UkPj"
      },
      "source": [
        ""
      ],
      "execution_count": null,
      "outputs": []
    },
    {
      "cell_type": "code",
      "metadata": {
        "id": "NNWlfeaJUkNG"
      },
      "source": [
        ""
      ],
      "execution_count": null,
      "outputs": []
    },
    {
      "cell_type": "code",
      "metadata": {
        "id": "93ZBTV9NUkFx"
      },
      "source": [
        ""
      ],
      "execution_count": null,
      "outputs": []
    },
    {
      "cell_type": "code",
      "metadata": {
        "id": "5-lK3WgYUkBD"
      },
      "source": [
        ""
      ],
      "execution_count": null,
      "outputs": []
    }
  ]
}